{
 "cells": [
  {
   "cell_type": "code",
   "execution_count": 3,
   "metadata": {},
   "outputs": [],
   "source": [
    "import os\n",
    "import sys\n",
    "sys.path.append('c:/Users/Saroj Chand/Documents/GitHub/nv-center-network-analysis')\n",
    "from src.utils import extract_nv_data, calculate_distances\n",
    "\n",
    "import numpy as np\n",
    "import pandas as pd\n",
    "import matplotlib.pyplot as plt\n",
    "import json\n",
    "\n",
    "from scripts.process_plot_correlation import*\n",
    "from src.utils import extract_nv_data, calculate_distances\n",
    "from scripts.data_preprocessing import preprocess_data, save_processed_data\n",
    "from scripts.network_analysis import compute_correlation_matrix, build_network, plot_network"
   ]
  },
  {
   "cell_type": "code",
   "execution_count": 4,
   "metadata": {},
   "outputs": [
    {
     "ename": "IndexError",
     "evalue": "too many indices for array: array is 1-dimensional, but 5 were indexed",
     "output_type": "error",
     "traceback": [
      "\u001b[1;31m---------------------------------------------------------------------------\u001b[0m",
      "\u001b[1;31mIndexError\u001b[0m                                Traceback (most recent call last)",
      "Cell \u001b[1;32mIn[4], line 39\u001b[0m\n\u001b[0;32m     36\u001b[0m data \u001b[38;5;241m=\u001b[39m load_data(file_path)\n\u001b[0;32m     38\u001b[0m \u001b[38;5;66;03m# Process and plot data\u001b[39;00m\n\u001b[1;32m---> 39\u001b[0m figures \u001b[38;5;241m=\u001b[39m process_and_plot(data)\n\u001b[0;32m     41\u001b[0m \u001b[38;5;66;03m# Display all generated plots\u001b[39;00m\n\u001b[0;32m     42\u001b[0m \u001b[38;5;28;01mfor\u001b[39;00m fig \u001b[38;5;129;01min\u001b[39;00m figures:\n",
      "File \u001b[1;32mc:\\Users/Saroj Chand/Documents/GitHub/nv-center-network-analysis\\scripts\\process_plot_correlation.py:49\u001b[0m, in \u001b[0;36mprocess_and_plot\u001b[1;34m(data)\u001b[0m\n\u001b[0;32m     47\u001b[0m start \u001b[38;5;241m=\u001b[39m \u001b[38;5;241m1000\u001b[39m\n\u001b[0;32m     48\u001b[0m window \u001b[38;5;241m=\u001b[39m \u001b[38;5;241m500\u001b[39m\n\u001b[1;32m---> 49\u001b[0m counts \u001b[38;5;241m=\u001b[39m counts[:, :, start:start \u001b[38;5;241m+\u001b[39m window, :, :]\n\u001b[0;32m     50\u001b[0m states \u001b[38;5;241m=\u001b[39m states[:, :, start:start \u001b[38;5;241m+\u001b[39m window, :, :]\n\u001b[0;32m     52\u001b[0m \u001b[38;5;66;03m# Example exclusion of specific indices\u001b[39;00m\n",
      "\u001b[1;31mIndexError\u001b[0m: too many indices for array: array is 1-dimensional, but 5 were indexed"
     ]
    }
   ],
   "source": [
    "\n",
    "def load_data(file_path):\n",
    "    # Example implementation for loading data from a text file\n",
    "    with open(file_path, 'r') as file:\n",
    "        lines = file.readlines()\n",
    "\n",
    "    # Example parsing logic (replace with actual parsing logic for your file format)\n",
    "    nv_list = []\n",
    "    counts = []\n",
    "    states = []\n",
    "\n",
    "    for line in lines:\n",
    "        # Parse each line and populate nv_list, counts, states accordingly\n",
    "        # Example parsing logic:\n",
    "        if line.startswith('NV'):\n",
    "            nv_list.append(line.strip())  # Assuming NV names or identifiers\n",
    "        elif line.startswith('Counts'):\n",
    "            counts.append([float(num) for num in line.strip().split(',')])  # Example: Convert comma-separated values to float\n",
    "        elif line.startswith('States'):\n",
    "            states.append([int(num) for num in line.strip().split(',')])  # Example: Convert comma-separated values to int\n",
    "\n",
    "    # Example conversion to numpy arrays (adjust as per your data structure)\n",
    "    counts = np.array(counts)\n",
    "    states = np.array(states)\n",
    "\n",
    "    return {\n",
    "        \"nv_list\": nv_list,\n",
    "        \"counts\": counts,\n",
    "        \"states\": states\n",
    "    }\n",
    "\n",
    "if __name__ == \"__main__\":\n",
    "    # File path to your data\n",
    "    file_path = '../data/raw/2024_05_27-04_37_40-johnson-nv0_2024_03_12.txt'\n",
    "\n",
    "    # Load data from file\n",
    "    data = load_data(file_path)\n",
    "\n",
    "    # Process and plot data\n",
    "    figures = process_and_plot(data)\n",
    "\n",
    "    # Display all generated plots\n",
    "    for fig in figures:\n",
    "        fig.tight_layout()\n",
    "        plt.show()\n"
   ]
  }
 ],
 "metadata": {
  "kernelspec": {
   "display_name": "base",
   "language": "python",
   "name": "python3"
  },
  "language_info": {
   "codemirror_mode": {
    "name": "ipython",
    "version": 3
   },
   "file_extension": ".py",
   "mimetype": "text/x-python",
   "name": "python",
   "nbconvert_exporter": "python",
   "pygments_lexer": "ipython3",
   "version": "3.11.7"
  }
 },
 "nbformat": 4,
 "nbformat_minor": 2
}
