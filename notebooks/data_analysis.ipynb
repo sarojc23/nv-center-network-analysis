{
 "cells": [
  {
   "cell_type": "code",
   "execution_count": null,
   "metadata": {},
   "outputs": [],
   "source": [
    "# Data Analysis Notebook\n",
    "import pandas as pd\n",
    "\n",
    "data = pd.read_csv(\"../data/processed/nv_center_data_processed.csv\")\n",
    "print(data.head())\n",
    "\n",
    "# Add your data analysis code here\n"
   ]
  }
 ],
 "metadata": {
  "language_info": {
   "name": "python"
  }
 },
 "nbformat": 4,
 "nbformat_minor": 2
}
