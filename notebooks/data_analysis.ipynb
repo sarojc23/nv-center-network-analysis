{
 "cells": [
  {
   "cell_type": "code",
   "execution_count": 1,
   "metadata": {},
   "outputs": [],
   "source": [
    "import os\n",
    "import sys\n",
    "sys.path.append('c:/Users/Saroj Chand/Documents/GitHub/nv-center-network-analysis')\n",
    "from src.utils import extract_nv_data, calculate_distances\n",
    "\n",
    "import numpy as np\n",
    "import pandas as pd\n",
    "import matplotlib.pyplot as plt\n",
    "import json\n",
    "\n",
    "from src.utils import extract_nv_data, calculate_distances\n",
    "from scripts.data_preprocessing import preprocess_data, save_processed_data\n",
    "from scripts.network_analysis import compute_correlation_matrix, build_network, plot_network"
   ]
  },
  {
   "cell_type": "code",
   "execution_count": 2,
   "metadata": {},
   "outputs": [
    {
     "name": "stdout",
     "output_type": "stream",
     "text": [
      "dict_keys(['nv_list', 'num_steps', 'num_reps', 'num_runs', 'uwave_ind', 'uwave_freq', 'num_exps_per_rep', 'load_iq', 'step_ind_master_list', 'counts-units', 'counts', 'states', 'timestamp', 'config', 'opx_config'])\n"
     ]
    }
   ],
   "source": [
    "# Load data from JSON file\n",
    "file_path = '../data/raw/2024_05_27-04_37_40-johnson-nv0_2024_03_12.txt'\n",
    "with open(file_path, 'r') as file:\n",
    "    data = json.load(file)\n",
    "# Print the keys in the JSON data\n",
    "print(data.keys())"
   ]
  },
  {
   "cell_type": "code",
   "execution_count": 3,
   "metadata": {},
   "outputs": [
    {
     "name": "stdout",
     "output_type": "stream",
     "text": [
      "Number of NVs: 10\n",
      "Coordinates (Pixel): [58.628, 139.616]\n",
      "Coordinates (Pixel): [137.025, 74.662]\n",
      "Coordinates (Pixel): [170.501, 132.597]\n",
      "Coordinates (Pixel): [171.074, 49.877]\n",
      "Coordinates (Pixel): [173.93, 78.505]\n",
      "Coordinates (Pixel): [144.169, 163.787]\n",
      "Coordinates (Pixel): [110.023, 87.942]\n",
      "Coordinates (Pixel): [135.139, 104.013]\n",
      "Coordinates (Pixel): [161.477, 105.335]\n",
      "Coordinates (Pixel): [131.144, 129.272]\n"
     ]
    }
   ],
   "source": [
    "# Example: Accessing NV List and Keys\n",
    "nv_list = data['nv_list']\n",
    "print(f\"Number of NVs: {len(nv_list)}\")\n",
    "\n",
    "# Example: Accessing Coordinates of NVs\n",
    "for nv in nv_list:\n",
    "    # print(f\"NV Name: {nv['name']}\")\n",
    "    print(f\"Coordinates (Pixel): {nv['coords']['pixel']}\")\n",
    "    # print(f\"Coordinates (Global): {nv['coords']['global']}\")"
   ]
  },
  {
   "cell_type": "code",
   "execution_count": 4,
   "metadata": {},
   "outputs": [
    {
     "name": "stdout",
     "output_type": "stream",
     "text": [
      "Shape of reference_counts: (10, 2000, 1, 100)\n",
      "Shape of signal_counts: (10, 2000, 1, 100)\n",
      "Shape of reference_counts: (10, 2000, 100)\n",
      "Shape of signal_counts: (10, 2000, 100)\n"
     ]
    }
   ],
   "source": [
    "# Number of NVs\n",
    "num_nvs = len(data['nv_list'])\n",
    "# Extract reference and signal counts\n",
    "reference_counts = data['counts'][0]\n",
    "signal_counts = data['counts'][1]\n",
    "\n",
    "#Make numpy array reference and signal counts\n",
    "reference_counts = np.array(data['counts'][0])\n",
    "signal_counts = np.array(data['counts'][1])\n",
    "\n",
    "# Verify the shape of counts arrays\n",
    "print(f\"Shape of reference_counts: {reference_counts.shape}\")\n",
    "print(f\"Shape of signal_counts: {signal_counts.shape}\")\n",
    "# Flatten or reshape the counts data if needed (removing singleton dimension)\n",
    "reference_counts = np.squeeze(reference_counts)  # This removes singleton dimensions\n",
    "signal_counts = np.squeeze(signal_counts)\n",
    "# Verify the shape of counts arrays\n",
    "print(f\"Shape of reference_counts: {reference_counts.shape}\")\n",
    "print(f\"Shape of signal_counts: {signal_counts.shape}\")"
   ]
  },
  {
   "cell_type": "code",
   "execution_count": 5,
   "metadata": {},
   "outputs": [
    {
     "name": "stdout",
     "output_type": "stream",
     "text": [
      "[20.5 22.5 24.5 17.5 22.5 27.5 23.5 25.5 27.5 27.5]\n"
     ]
    }
   ],
   "source": [
    "# Average over the repetitions (3rd dimension) to get a (10, 2000) array for each count\n",
    "avg_reference_counts = np.mean(reference_counts, axis=2)\n",
    "avg_signal_counts = np.mean(signal_counts, axis=2)\n",
    "# print(avg_signal_counts)\n",
    "# Threshold values\n",
    "threshold_values = np.array([nv['threshold'] for nv in data['nv_list']])\n",
    "print(threshold_values)\n",
    "# Apply thresholding to reference and signal counts\n",
    "binary_reference_counts = np.where(avg_reference_counts > threshold_values[:, None], 1, 0)\n",
    "binary_signal_counts = np.where(avg_signal_counts > threshold_values[:, None], 1, 0)\n",
    "# print(binary_signal_counts)"
   ]
  },
  {
   "cell_type": "code",
   "execution_count": 6,
   "metadata": {},
   "outputs": [
    {
     "name": "stdout",
     "output_type": "stream",
     "text": [
      "Adjusted threshold values: [17.73739704 18.64312698 21.30665174 14.05344862 19.25787248 26.24163677\n",
      " 19.3533691  20.68238123 25.06786919 27.15640911]\n"
     ]
    }
   ],
   "source": [
    "# Function to compute binary counts with thresholding\n",
    "def apply_thresholding(counts, thresholds):\n",
    "    return np.where(counts > thresholds[:, None], 1, 0)\n",
    "\n",
    "# Iteratively adjust threshold values to minimize correlation in reference data\n",
    "def adjust_thresholds(reference_counts, threshold_values, learning_rate=0.01, max_iterations=1000, tolerance=1e-6):\n",
    "    for iteration in range(max_iterations):\n",
    "        binary_reference_counts = apply_thresholding(reference_counts, threshold_values)\n",
    "        correlation_matrix_reference = compute_correlation_matrix(binary_reference_counts)\n",
    "        avg_correlation = np.mean(np.abs(correlation_matrix_reference[np.triu_indices(num_nvs, k=1)]))\n",
    "\n",
    "        if avg_correlation < tolerance:\n",
    "            print(f\"Convergence reached at iteration {iteration} with average correlation {avg_correlation}\")\n",
    "            break\n",
    "\n",
    "        # Adjust thresholds based on correlation matrix\n",
    "        gradient = np.sum(correlation_matrix_reference, axis=1) - np.diag(correlation_matrix_reference)\n",
    "        threshold_values -= learning_rate * gradient\n",
    "\n",
    "    return threshold_values\n",
    "\n",
    "# Adjust thresholds\n",
    "adjusted_threshold_values = adjust_thresholds(avg_reference_counts, threshold_values)\n",
    "print(f\"Adjusted threshold values: {adjusted_threshold_values}\")\n"
   ]
  },
  {
   "cell_type": "code",
   "execution_count": 93,
   "metadata": {},
   "outputs": [
    {
     "name": "stderr",
     "output_type": "stream",
     "text": [
      "c:\\Users\\Saroj Chand\\anaconda3\\Lib\\site-packages\\numpy\\lib\\function_base.py:2897: RuntimeWarning: invalid value encountered in divide\n",
      "  c /= stddev[:, None]\n",
      "c:\\Users\\Saroj Chand\\anaconda3\\Lib\\site-packages\\numpy\\lib\\function_base.py:2898: RuntimeWarning: invalid value encountered in divide\n",
      "  c /= stddev[None, :]\n"
     ]
    },
    {
     "data": {
      "image/png": "[encoded data removed]",
      "text/plain": [
       "<Figure size 640x480 with 2 Axes>"
      ]
     },
     "metadata": {},
     "output_type": "display_data"
    },
    {
     "data": {
      "image/png": "[encoded data removed]",
      "text/plain": [
       "<Figure size 640x480 with 2 Axes>"
      ]
     },
     "metadata": {},
     "output_type": "display_data"
    }
   ],
   "source": [
    "\n",
    "# Apply thresholding to reference and signal counts using adjusted thresholds\n",
    "binary_reference_counts = apply_thresholding(avg_reference_counts, adjusted_threshold_values)\n",
    "binary_signal_counts = apply_thresholding(avg_signal_counts, adjusted_threshold_values)\n",
    "\n",
    "\n",
    "# Compute correlation matrices for shot-to-shot correlations\n",
    "correlation_matrix_reference = compute_correlation_matrix(binary_reference_counts)\n",
    "correlation_matrix_signal = compute_correlation_matrix(binary_signal_counts)\n",
    "\n",
    "# Set the range for the colormap\n",
    "vmin = -0.1\n",
    "vmax = 0.2\n",
    "\n",
    "# Plot correlation matrix for reference counts\n",
    "# plt.imshow(correlation_matrix_reference, cmap='bwr', interpolation='nearest', vmin=vmin, vmax=vmax)\n",
    "# Replace diagonal elements with gray color\n",
    "np.fill_diagonal(correlation_matrix_reference, np.nan)  # Replace diagonal elements with NaN\n",
    "plt.imshow(correlation_matrix_reference, cmap='bwr', interpolation='nearest')\n",
    "plt.colorbar()\n",
    "plt.title('Correlation Matrix (Reference Counts)')\n",
    "plt.show()\n",
    "\n",
    "# Plot correlation matrix for signal counts\n",
    "np.fill_diagonal(correlation_matrix_signal,np.nan)\n",
    "plt.imshow(correlation_matrix_signal, cmap='bwr', interpolation='nearest', vmin=vmin, vmax=vmax)\n",
    "plt.colorbar()\n",
    "plt.title('Correlation Matrix (Signal Counts)')\n",
    "plt.show()"
   ]
  },
  {
   "cell_type": "code",
   "execution_count": 88,
   "metadata": {},
   "outputs": [
    {
     "name": "stdout",
     "output_type": "stream",
     "text": [
      "Processed binary reference counts saved to: ../data/processed\\processed_binary_reference_counts.npy\n",
      "Processed binary signal counts saved to: ../data/processed\\processed_binary_signal_counts.npy\n",
      "Correlation matrix for reference counts saved to: ../data/processed\\correlation_matrix_reference.npy\n",
      "Correlation matrix for signal counts saved to: ../data/processed\\correlation_matrix_signal.npy\n"
     ]
    }
   ],
   "source": [
    "# Save processed data\n",
    "output_dir = '../data/processed'\n",
    "if not os.path.exists(output_dir):\n",
    "    os.makedirs(output_dir)\n",
    "\n",
    "output_path_reference = os.path.join(output_dir, 'processed_binary_reference_counts.npy')\n",
    "output_path_signal = os.path.join(output_dir, 'processed_binary_signal_counts.npy')\n",
    "\n",
    "np.save(output_path_reference, binary_reference_counts)\n",
    "np.save(output_path_signal, binary_signal_counts)\n",
    "\n",
    "print(f\"Processed binary reference counts saved to: {output_path_reference}\")\n",
    "print(f\"Processed binary signal counts saved to: {output_path_signal}\")\n",
    "\n",
    "# Save the correlation matrices\n",
    "correlation_matrix_path_reference = os.path.join(output_dir, 'correlation_matrix_reference.npy')\n",
    "correlation_matrix_path_signal = os.path.join(output_dir, 'correlation_matrix_signal.npy')\n",
    "\n",
    "np.save(correlation_matrix_path_reference, correlation_matrix_reference)\n",
    "np.save(correlation_matrix_path_signal, correlation_matrix_signal)\n",
    "\n",
    "print(f\"Correlation matrix for reference counts saved to: {correlation_matrix_path_reference}\")\n",
    "print(f\"Correlation matrix for signal counts saved to: {correlation_matrix_path_signal}\")"
   ]
  },
  {
   "cell_type": "code",
   "execution_count": null,
   "metadata": {},
   "outputs": [],
   "source": [
    "# Compute correlation matrices for shot-to-shot correlations\n",
    "correlation_matrix_reference = compute_correlation_matrix(binary_reference_counts)\n",
    "correlation_matrix_signal = compute_correlation_matrix(binary_signal_counts)\n",
    "\n",
    "# Plot correlation matrices\n",
    "plt.imshow(correlation_matrix_reference, cmap='bwr', interpolation='nearest')\n",
    "plt.colorbar()\n",
    "plt.title('Correlation Matrix (Reference Counts)')\n",
    "plt.show()\n",
    "\n",
    "plt.imshow(correlation_matrix_signal, cmap='bwr', interpolation='nearest')\n",
    "plt.colorbar()\n",
    "plt.title('Correlation Matrix (Signal Counts)')\n",
    "plt.show()\n"
   ]
  },
  {
   "cell_type": "code",
   "execution_count": null,
   "metadata": {},
   "outputs": [],
   "source": [
    "# Define the output directory\n",
    "output_dir = '../data/correlation_matrix'\n",
    "if not os.path.exists(output_dir):\n",
    "    os.makedirs(output_dir)\n",
    "\n",
    "# Save correlation matrices\n",
    "np.save(os.path.join(output_dir, 'correlation_matrix_reference.npy'), correlation_matrix_reference)\n",
    "np.save(os.path.join(output_dir, 'correlation_matrix_signal.npy'), correlation_matrix_signal)"
   ]
  },
  {
   "cell_type": "code",
   "execution_count": null,
   "metadata": {},
   "outputs": [],
   "source": [
    "# Compute correlation matrices\n",
    "correlation_matrix_reference = np.corrcoef(averaged_reference_counts)\n",
    "correlation_matrix_signal = np.corrcoef(averaged_signal_counts)\n",
    "\n",
    "# Plot resized correlation matrices\n",
    "fig, axs = plt.subplots(1, 2, figsize=(12, 6))\n",
    "\n",
    "cax0 = axs[0].imshow(correlation_matrix_reference, cmap='hot', interpolation='nearest')\n",
    "axs[0].set_title('Reference Counts Correlation Matrix')\n",
    "axs[0].set_xlabel('NVs')\n",
    "axs[0].set_ylabel('NVs')\n",
    "fig.colorbar(cax0, ax=axs[0])\n",
    "\n",
    "cax1 = axs[1].imshow(correlation_matrix_signal, cmap='hot', interpolation='nearest')\n",
    "axs[1].set_title('Signal Counts Correlation Matrix')\n",
    "axs[1].set_xlabel('NVs')\n",
    "axs[1].set_ylabel('NVs')\n",
    "fig.colorbar(cax1, ax=axs[1])\n",
    "\n",
    "plt.tight_layout()\n",
    "plt.show()"
   ]
  },
  {
   "cell_type": "code",
   "execution_count": null,
   "metadata": {},
   "outputs": [],
   "source": [
    "# Threshold values\n",
    "threshold_values = np.array([nv['threshold'] for nv in data['nv_list']])\n",
    "# Apply thresholding to reference and signal counts\n",
    "binary_reference_counts = np.where(averaged_reference_counts > threshold_values[:, None], 1, 0)\n",
    "binary_signal_counts = np.where(averaged_signal_counts > threshold_values[:, None], 1, 0)\n",
    "print(binary_reference_counts)\n",
    "print(binary_reference_counts)"
   ]
  },
  {
   "cell_type": "code",
   "execution_count": null,
   "metadata": {},
   "outputs": [],
   "source": [
    "# Compute correlation matrices\n",
    "correlation_matrix_reference = np.corrcoef(binary_reference_counts)\n",
    "correlation_matrix_signal = np.corrcoef(binary_signal_counts)\n",
    "\n",
    "# Plot resized correlation matrices\n",
    "fig, axs = plt.subplots(1, 2, figsize=(12, 6))\n",
    "\n",
    "cax0 = axs[0].imshow(correlation_matrix_reference, cmap='hot', interpolation='nearest')\n",
    "axs[0].set_title('Reference Counts Correlation Matrix')\n",
    "axs[0].set_xlabel('NVs')\n",
    "axs[0].set_ylabel('NVs')\n",
    "fig.colorbar(cax0, ax=axs[0])\n",
    "\n",
    "cax1 = axs[1].imshow(correlation_matrix_signal, cmap='hot', interpolation='nearest')\n",
    "axs[1].set_title('Signal Counts Correlation Matrix')\n",
    "axs[1].set_xlabel('NVs')\n",
    "axs[1].set_ylabel('NVs')\n",
    "fig.colorbar(cax1, ax=axs[1])\n",
    "\n",
    "plt.tight_layout()\n",
    "plt.show()"
   ]
  },
  {
   "cell_type": "code",
   "execution_count": null,
   "metadata": {},
   "outputs": [],
   "source": [
    "# Define the output directory\n",
    "output_dir = '../data/correlation_matrix'\n",
    "if not os.path.exists(output_dir):\n",
    "    os.makedirs(output_dir)\n",
    "\n",
    "# Save correlation matrices\n",
    "np.save(os.path.join(output_dir, 'correlation_matrix_reference.npy'), correlation_matrix_reference)\n",
    "np.save(os.path.join(output_dir, 'correlation_matrix_signal.npy'), correlation_matrix_signal)"
   ]
  }
 ],
 "metadata": {
  "kernelspec": {
   "display_name": "base",
   "language": "python",
   "name": "python3"
  },
  "language_info": {
   "codemirror_mode": {
    "name": "ipython",
    "version": 3
   },
   "file_extension": ".py",
   "mimetype": "text/x-python",
   "name": "python",
   "nbconvert_exporter": "python",
   "pygments_lexer": "ipython3",
   "version": "3.11.7"
  }
 },
 "nbformat": 4,
 "nbformat_minor": 2
}
