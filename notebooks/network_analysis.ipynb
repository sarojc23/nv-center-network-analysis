{
 "cells": [
  {
   "cell_type": "code",
   "execution_count": null,
   "metadata": {},
   "outputs": [],
   "source": [
    "# Network Analysis Notebook\n",
    "import networkx as nx\n",
    "import pandas as pd\n",
    "from src.utils import compute_correlations, build_network\n",
    "from src.visualization import plot_network\n",
    "\n",
    "data = pd.read_csv(\"../data/processed/nv_center_data_processed.csv\")\n",
    "\n",
    "correlations = compute_correlations(data)\n",
    "G = build_network(correlations)\n",
    "\n",
    "plot_network(G)"
   ]
  }
 ],
 "metadata": {
  "language_info": {
   "name": "python"
  }
 },
 "nbformat": 4,
 "nbformat_minor": 2
}
